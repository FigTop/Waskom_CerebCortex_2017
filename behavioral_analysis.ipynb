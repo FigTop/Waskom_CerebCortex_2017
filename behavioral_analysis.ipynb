{
 "cells": [
  {
   "cell_type": "markdown",
   "metadata": {},
   "source": [
    "# Behavioral analysis"
   ]
  },
  {
   "cell_type": "code",
   "execution_count": 1,
   "metadata": {
    "collapsed": false
   },
   "outputs": [],
   "source": [
    "%matplotlib inline"
   ]
  },
  {
   "cell_type": "code",
   "execution_count": 2,
   "metadata": {
    "collapsed": false
   },
   "outputs": [],
   "source": [
    "import numpy as np\n",
    "import pandas as pd\n",
    "import matplotlib as mpl\n",
    "import matplotlib.pyplot as plt\n",
    "import seaborn as sns"
   ]
  },
  {
   "cell_type": "markdown",
   "metadata": {},
   "source": [
    "Set some default display parameters for plots and tables."
   ]
  },
  {
   "cell_type": "code",
   "execution_count": 3,
   "metadata": {
    "collapsed": false
   },
   "outputs": [],
   "source": [
    "sns.set(style=\"ticks\", context=\"paper\",\n",
    "        rc={\"xtick.major.size\": 3, \"ytick.major.size\": 3,\n",
    "            \"xtick.major.width\": 1, \"ytick.major.width\": 1,\n",
    "            \"axes.linewidth\": 1, \"lines.linewidth\": 1})\n",
    "mpl.rcParams[\"savefig.dpi\"] = 150\n",
    "pd.set_option(\"display.precision\", 3)"
   ]
  },
  {
   "cell_type": "markdown",
   "metadata": {},
   "source": [
    "Load in the cached complete data file."
   ]
  },
  {
   "cell_type": "code",
   "execution_count": 4,
   "metadata": {
    "collapsed": true
   },
   "outputs": [],
   "source": [
    "data = pd.read_csv(\"data/punch_data.csv\").query(\"stim\")\n",
    "data_corr = data.query(\"correct\").copy()\n",
    "data_resp = data.query(\"answered\").copy()"
   ]
  },
  {
   "cell_type": "markdown",
   "metadata": {},
   "source": [
    "Remove between-subjects differences in median RT so that error bars on plots represent within-subject error on the effects of interest."
   ]
  },
  {
   "cell_type": "code",
   "execution_count": 5,
   "metadata": {
    "collapsed": false
   },
   "outputs": [],
   "source": [
    "def remove_intercept_variance(x, group_median):\n",
    "    return x - x.median() + group_median\n",
    "data_corr.loc[:, \"rt_within\"] = data_corr.groupby(\"subj\").rt.transform(remove_intercept_variance,\n",
    "                                                                       data_corr.rt.median())"
   ]
  },
  {
   "cell_type": "code",
   "execution_count": 6,
   "metadata": {
    "collapsed": false
   },
   "outputs": [],
   "source": [
    "def savefig(fig, name):\n",
    "    fig.savefig(\"figures/{}.pdf\".format(name), dpi=300)\n",
    "    fig.savefig(\"figures/{}.png\".format(name), dpi=120)\n",
    "    fig.savefig(\"tiffs/{}.tiff\".format(name), dpi=300)"
   ]
  },
  {
   "cell_type": "code",
   "execution_count": 7,
   "metadata": {
    "collapsed": false
   },
   "outputs": [
    {
     "name": "stderr",
     "output_type": "stream",
     "text": [
      "/Users/mwaskom/anaconda/envs/punch/lib/python2.7/site-packages/rpy2/robjects/functions.py:106: UserWarning: Loading required package: Matrix\n",
      "\n",
      "  res = super(Function, self).__call__(*new_args, **new_kwargs)\n"
     ]
    }
   ],
   "source": [
    "%load_ext rpy2.ipython\n",
    "%R -n library(lme4)"
   ]
  },
  {
   "cell_type": "code",
   "execution_count": 8,
   "metadata": {
    "collapsed": false
   },
   "outputs": [],
   "source": [
    "%%R\n",
    "lr.test = function(m1, m2, name){\n",
    "    print(summary(m1))\n",
    "    out = anova(m1, m2)\n",
    "    chi2 = out$Chisq[2]\n",
    "    dof = out$\"Chi Df\"[2]\n",
    "    p = out$\"Pr(>Chisq)\"[2]\n",
    "    test_str = \"\\nLikelihood ratio test for %s:\\n  Chisq(%d) = %.2f; p = %.3g\"\n",
    "    writeLines(sprintf(test_str, name, dof, chi2, p))\n",
    "}"
   ]
  },
  {
   "cell_type": "code",
   "execution_count": 9,
   "metadata": {
    "collapsed": false
   },
   "outputs": [],
   "source": [
    "%%R -i data\n",
    "data$log.cpe = log(data$pe_context)\n",
    "data.corr = data[data$correct,]\n",
    "data.corr$log.cpe = log(data.corr$pe_context)\n",
    "data.resp = data[data$answered,]\n",
    "data.resp$log.cpe = log(data.resp$pe_context)"
   ]
  },
  {
   "cell_type": "markdown",
   "metadata": {},
   "source": [
    "## Basic statistics about the behavioral data"
   ]
  },
  {
   "cell_type": "markdown",
   "metadata": {},
   "source": [
    "### Perceptual coherence of experimental stimuli"
   ]
  },
  {
   "cell_type": "markdown",
   "metadata": {},
   "source": [
    "Summarize the average coherence (based on the actual signal that was acheived during stimulus presentation) for each context."
   ]
  },
  {
   "cell_type": "code",
   "execution_count": 10,
   "metadata": {
    "collapsed": false
   },
   "outputs": [
    {
     "data": {
      "text/html": [
       "<div>\n",
       "<table border=\"1\" class=\"dataframe\">\n",
       "  <thead>\n",
       "    <tr style=\"text-align: right;\">\n",
       "      <th></th>\n",
       "      <th>count</th>\n",
       "      <th>mean</th>\n",
       "      <th>std</th>\n",
       "      <th>min</th>\n",
       "      <th>25%</th>\n",
       "      <th>50%</th>\n",
       "      <th>75%</th>\n",
       "      <th>max</th>\n",
       "    </tr>\n",
       "  </thead>\n",
       "  <tbody>\n",
       "    <tr>\n",
       "      <th>color_signal</th>\n",
       "      <td>15</td>\n",
       "      <td>0.18</td>\n",
       "      <td>0.06</td>\n",
       "      <td>0.1</td>\n",
       "      <td>0.15</td>\n",
       "      <td>0.16</td>\n",
       "      <td>0.18</td>\n",
       "      <td>0.36</td>\n",
       "    </tr>\n",
       "    <tr>\n",
       "      <th>motion_signal</th>\n",
       "      <td>15</td>\n",
       "      <td>0.25</td>\n",
       "      <td>0.10</td>\n",
       "      <td>0.1</td>\n",
       "      <td>0.17</td>\n",
       "      <td>0.23</td>\n",
       "      <td>0.32</td>\n",
       "      <td>0.48</td>\n",
       "    </tr>\n",
       "  </tbody>\n",
       "</table>\n",
       "</div>"
      ],
      "text/plain": [
       "               count  mean   std  min   25%   50%   75%   max\n",
       "color_signal      15  0.18  0.06  0.1  0.15  0.16  0.18  0.36\n",
       "motion_signal     15  0.25  0.10  0.1  0.17  0.23  0.32  0.48"
      ]
     },
     "execution_count": 10,
     "metadata": {},
     "output_type": "execute_result"
    }
   ],
   "source": [
    "data.groupby(\"subj\")[[\"color_signal\", \"motion_signal\"]].mean().describe().T"
   ]
  },
  {
   "cell_type": "markdown",
   "metadata": {},
   "source": [
    "### Response accuracy"
   ]
  },
  {
   "cell_type": "code",
   "execution_count": 11,
   "metadata": {
    "collapsed": false
   },
   "outputs": [
    {
     "data": {
      "text/html": [
       "<div>\n",
       "<table border=\"1\" class=\"dataframe\">\n",
       "  <thead>\n",
       "    <tr style=\"text-align: right;\">\n",
       "      <th></th>\n",
       "      <th>count</th>\n",
       "      <th>mean</th>\n",
       "      <th>std</th>\n",
       "      <th>min</th>\n",
       "      <th>25%</th>\n",
       "      <th>50%</th>\n",
       "      <th>75%</th>\n",
       "      <th>max</th>\n",
       "    </tr>\n",
       "  </thead>\n",
       "  <tbody>\n",
       "    <tr>\n",
       "      <th>color</th>\n",
       "      <td>15</td>\n",
       "      <td>0.89</td>\n",
       "      <td>0.05</td>\n",
       "      <td>0.83</td>\n",
       "      <td>0.85</td>\n",
       "      <td>0.91</td>\n",
       "      <td>0.93</td>\n",
       "      <td>0.97</td>\n",
       "    </tr>\n",
       "    <tr>\n",
       "      <th>motion</th>\n",
       "      <td>15</td>\n",
       "      <td>0.87</td>\n",
       "      <td>0.08</td>\n",
       "      <td>0.76</td>\n",
       "      <td>0.80</td>\n",
       "      <td>0.86</td>\n",
       "      <td>0.93</td>\n",
       "      <td>0.98</td>\n",
       "    </tr>\n",
       "  </tbody>\n",
       "</table>\n",
       "</div>"
      ],
      "text/plain": [
       "        count  mean   std   min   25%   50%   75%   max\n",
       "color      15  0.89  0.05  0.83  0.85  0.91  0.93  0.97\n",
       "motion     15  0.87  0.08  0.76  0.80  0.86  0.93  0.98"
      ]
     },
     "execution_count": 11,
     "metadata": {},
     "output_type": "execute_result"
    }
   ],
   "source": [
    "pd.pivot_table(data_resp, \"correct\", \"subj\", \"context\").describe().T"
   ]
  },
  {
   "cell_type": "code",
   "execution_count": 12,
   "metadata": {
    "collapsed": false
   },
   "outputs": [
    {
     "data": {
      "text/plain": [
       "Generalized linear mixed model fit by maximum likelihood (Laplace\n",
       "  Approximation) [glmerMod]\n",
       " Family: binomial  ( logit )\n",
       "Formula: correct ~ context + (context | subj)\n",
       "   Data: data.resp\n",
       "\n",
       "     AIC      BIC   logLik deviance df.resid \n",
       "  6180.4   6215.8  -3085.2   6170.4     8751 \n",
       "\n",
       "Scaled residuals: \n",
       "    Min      1Q  Median      3Q     Max \n",
       "-5.6914  0.2153  0.3084  0.4314  0.5610 \n",
       "\n",
       "Random effects:\n",
       " Groups Name          Variance Std.Dev. Corr \n",
       " subj   (Intercept)   0.2370   0.4869        \n",
       "        contextmotion 0.6681   0.8174   -0.38\n",
       "Number of obs: 8756, groups:  subj, 15\n",
       "\n",
       "Fixed effects:\n",
       "              Estimate Std. Error z value Pr(>|z|)    \n",
       "(Intercept)     2.2321     0.1367  16.333   <2e-16 ***\n",
       "contextmotion  -0.1743     0.2242  -0.778    0.437    \n",
       "---\n",
       "Signif. codes:  0 ‘***’ 0.001 ‘**’ 0.01 ‘*’ 0.05 ‘.’ 0.1 ‘ ’ 1\n",
       "\n",
       "Correlation of Fixed Effects:\n",
       "            (Intr)\n",
       "contextmotn -0.424\n",
       "\n",
       "Likelihood ratio test for main effect of context:\n",
       "  Chisq(1) = 0.58; p = 0.445\n"
      ]
     },
     "metadata": {},
     "output_type": "display_data"
    }
   ],
   "source": [
    "%%R\n",
    "m = glmer(correct ~ context + (context | subj), data.resp, family=binomial)\n",
    "m.null = glmer(correct ~ 1 + (context | subj), data.resp, family=binomial)\n",
    "lr.test(m, m.null, \"main effect of context\")"
   ]
  },
  {
   "cell_type": "markdown",
   "metadata": {},
   "source": [
    "### Proportion missed trials"
   ]
  },
  {
   "cell_type": "code",
   "execution_count": 13,
   "metadata": {
    "collapsed": false
   },
   "outputs": [
    {
     "data": {
      "text/plain": [
       "0.027111111111111086"
      ]
     },
     "execution_count": 13,
     "metadata": {},
     "output_type": "execute_result"
    }
   ],
   "source": [
    "1 - data.answered.mean()"
   ]
  },
  {
   "cell_type": "markdown",
   "metadata": {},
   "source": [
    "### Effect of context on reaction time"
   ]
  },
  {
   "cell_type": "code",
   "execution_count": 14,
   "metadata": {
    "collapsed": false
   },
   "outputs": [
    {
     "data": {
      "text/html": [
       "<div>\n",
       "<table border=\"1\" class=\"dataframe\">\n",
       "  <thead>\n",
       "    <tr style=\"text-align: right;\">\n",
       "      <th></th>\n",
       "      <th>count</th>\n",
       "      <th>mean</th>\n",
       "      <th>std</th>\n",
       "      <th>min</th>\n",
       "      <th>25%</th>\n",
       "      <th>50%</th>\n",
       "      <th>75%</th>\n",
       "      <th>max</th>\n",
       "    </tr>\n",
       "  </thead>\n",
       "  <tbody>\n",
       "    <tr>\n",
       "      <th>color</th>\n",
       "      <td>15</td>\n",
       "      <td>1.27</td>\n",
       "      <td>0.15</td>\n",
       "      <td>0.93</td>\n",
       "      <td>1.19</td>\n",
       "      <td>1.27</td>\n",
       "      <td>1.31</td>\n",
       "      <td>1.55</td>\n",
       "    </tr>\n",
       "    <tr>\n",
       "      <th>motion</th>\n",
       "      <td>15</td>\n",
       "      <td>1.20</td>\n",
       "      <td>0.21</td>\n",
       "      <td>0.74</td>\n",
       "      <td>1.10</td>\n",
       "      <td>1.17</td>\n",
       "      <td>1.36</td>\n",
       "      <td>1.57</td>\n",
       "    </tr>\n",
       "  </tbody>\n",
       "</table>\n",
       "</div>"
      ],
      "text/plain": [
       "        count  mean   std   min   25%   50%   75%   max\n",
       "color      15  1.27  0.15  0.93  1.19  1.27  1.31  1.55\n",
       "motion     15  1.20  0.21  0.74  1.10  1.17  1.36  1.57"
      ]
     },
     "execution_count": 14,
     "metadata": {},
     "output_type": "execute_result"
    }
   ],
   "source": [
    "pd.pivot_table(data_corr, \"rt\", \"subj\", \"context\").describe().T"
   ]
  },
  {
   "cell_type": "code",
   "execution_count": 15,
   "metadata": {
    "collapsed": false
   },
   "outputs": [
    {
     "name": "stderr",
     "output_type": "stream",
     "text": [
      "/Users/mwaskom/anaconda/envs/punch/lib/python2.7/site-packages/rpy2/robjects/functions.py:106: UserWarning: refitting model(s) with ML (instead of REML)\n",
      "\n",
      "  res = super(Function, self).__call__(*new_args, **new_kwargs)\n"
     ]
    },
    {
     "data": {
      "text/plain": [
       "Linear mixed model fit by REML ['lmerMod']\n",
       "Formula: rt ~ context + (context | subj)\n",
       "   Data: data.corr\n",
       "\n",
       "REML criterion at convergence: 2149.2\n",
       "\n",
       "Scaled residuals: \n",
       "    Min      1Q  Median      3Q     Max \n",
       "-3.6982 -0.7213 -0.0747  0.6567  3.5396 \n",
       "\n",
       "Random effects:\n",
       " Groups   Name          Variance Std.Dev. Corr\n",
       " subj     (Intercept)   0.023685 0.15390      \n",
       "          contextmotion 0.008625 0.09287  0.45\n",
       " Residual               0.076159 0.27597      \n",
       "Number of obs: 7706, groups:  subj, 15\n",
       "\n",
       "Fixed effects:\n",
       "              Estimate Std. Error t value\n",
       "(Intercept)    1.27249    0.03998   31.83\n",
       "contextmotion -0.07203    0.02479   -2.91\n",
       "\n",
       "Correlation of Fixed Effects:\n",
       "            (Intr)\n",
       "contextmotn 0.411 \n",
       "\n",
       "Likelihood ratio test for main effect of context:\n",
       "  Chisq(1) = 7.07; p = 0.00783\n"
      ]
     },
     "metadata": {},
     "output_type": "display_data"
    }
   ],
   "source": [
    "%%R\n",
    "m = lmer(rt ~ context + (context | subj), data.corr)\n",
    "m.null = lmer(rt ~ 1 + (context | subj), data.corr)\n",
    "lr.test(m, m.null, \"main effect of context\")"
   ]
  },
  {
   "cell_type": "markdown",
   "metadata": {},
   "source": [
    "## Analyses of context prediction error"
   ]
  },
  {
   "cell_type": "markdown",
   "metadata": {},
   "source": [
    "### Test to support using log(CPE)"
   ]
  },
  {
   "cell_type": "code",
   "execution_count": 16,
   "metadata": {
    "collapsed": false
   },
   "outputs": [
    {
     "data": {
      "text/plain": [
       "Data: data.corr\n",
       "Models:\n",
       "m.lin: rt ~ pe_context + (pe_context | subj)\n",
       "m.log: rt ~ log.cpe + (log.cpe | subj)\n",
       "      Df    AIC    BIC  logLik deviance  Chisq Chi Df Pr(>Chisq)    \n",
       "m.lin  6 2340.7 2382.4 -1164.3   2328.7                             \n",
       "m.log  6 2323.8 2365.5 -1155.9   2311.8 16.928      0  < 2.2e-16 ***\n",
       "---\n",
       "Signif. codes:  0 ‘***’ 0.001 ‘**’ 0.01 ‘*’ 0.05 ‘.’ 0.1 ‘ ’ 1\n"
      ]
     },
     "metadata": {},
     "output_type": "display_data"
    }
   ],
   "source": [
    "%%R\n",
    "m.lin = lmer(rt ~ pe_context + (pe_context | subj), data.corr)\n",
    "m.log = lmer(rt ~ log.cpe + (log.cpe | subj), data.corr)\n",
    "print(anova(m.lin, m.log))"
   ]
  },
  {
   "cell_type": "markdown",
   "metadata": {},
   "source": [
    "### Main effect of log(CPE)"
   ]
  },
  {
   "cell_type": "code",
   "execution_count": 17,
   "metadata": {
    "collapsed": false
   },
   "outputs": [
    {
     "data": {
      "text/plain": [
       "Linear mixed model fit by REML ['lmerMod']\n",
       "Formula: rt ~ log.cpe + (log.cpe | subj)\n",
       "   Data: data.corr\n",
       "\n",
       "REML criterion at convergence: 2323.2\n",
       "\n",
       "Scaled residuals: \n",
       "    Min      1Q  Median      3Q     Max \n",
       "-3.7391 -0.7389 -0.0813  0.6501  3.7294 \n",
       "\n",
       "Random effects:\n",
       " Groups   Name        Variance Std.Dev. Corr \n",
       " subj     (Intercept) 0.029650 0.17219       \n",
       "          log.cpe     0.001389 0.03726  -0.10\n",
       " Residual             0.078099 0.27946       \n",
       "Number of obs: 7706, groups:  subj, 15\n",
       "\n",
       "Fixed effects:\n",
       "            Estimate Std. Error t value\n",
       "(Intercept)  1.32021    0.04522  29.197\n",
       "log.cpe      0.08338    0.01230   6.779\n",
       "\n",
       "Correlation of Fixed Effects:\n",
       "        (Intr)\n",
       "log.cpe 0.028 \n",
       "\n",
       "Likelihood ratio test for main effect of log(CPE):\n",
       "  Chisq(1) = 21.89; p = 2.88e-06\n"
      ]
     },
     "metadata": {},
     "output_type": "display_data"
    }
   ],
   "source": [
    "%%R\n",
    "m = lmer(rt ~ log.cpe + (log.cpe | subj), data.corr)\n",
    "m.null = lmer(rt ~ 1 + (log.cpe | subj), data.corr)\n",
    "lr.test(m, m.null, \"main effect of log(CPE)\")"
   ]
  },
  {
   "cell_type": "code",
   "execution_count": 18,
   "metadata": {
    "collapsed": false
   },
   "outputs": [
    {
     "data": {
      "text/plain": [
       "Linear mixed model fit by REML ['lmerMod']\n",
       "Formula: rt ~ log.cpe + context_freq + (log.cpe + context_freq | subj)\n",
       "   Data: data.corr\n",
       "\n",
       "REML criterion at convergence: 2327.4\n",
       "\n",
       "Scaled residuals: \n",
       "    Min      1Q  Median      3Q     Max \n",
       "-3.7477 -0.7381 -0.0862  0.6513  3.7316 \n",
       "\n",
       "Random effects:\n",
       " Groups   Name         Variance Std.Dev. Corr       \n",
       " subj     (Intercept)  0.029063 0.17048             \n",
       "          log.cpe      0.000657 0.02563   0.02      \n",
       "          context_freq 0.001133 0.03366   0.19 -0.98\n",
       " Residual              0.078089 0.27944             \n",
       "Number of obs: 7706, groups:  subj, 15\n",
       "\n",
       "Fixed effects:\n",
       "              Estimate Std. Error t value\n",
       "(Intercept)   1.320468   0.045205  29.210\n",
       "log.cpe       0.082480   0.013498   6.111\n",
       "context_freq -0.002014   0.026630  -0.076\n",
       "\n",
       "Correlation of Fixed Effects:\n",
       "            (Intr) log.cp\n",
       "log.cpe      0.014       \n",
       "context_frq -0.067  0.469\n",
       "\n",
       "Likelihood ratio test for main effect of log(CPE) controlling for context frequency:\n",
       "  Chisq(1) = 20.72; p = 5.31e-06\n"
      ]
     },
     "metadata": {},
     "output_type": "display_data"
    }
   ],
   "source": [
    "%%R\n",
    "m = lmer(rt ~ log.cpe + context_freq + (log.cpe + context_freq | subj), data.corr)\n",
    "m.null = lmer(rt ~ context_freq + (log.cpe + context_freq | subj), data.corr)\n",
    "lr.test(m, m.null, \"main effect of log(CPE) controlling for context frequency\")"
   ]
  },
  {
   "cell_type": "markdown",
   "metadata": {},
   "source": [
    "### Main effect of congruency"
   ]
  },
  {
   "cell_type": "code",
   "execution_count": 19,
   "metadata": {
    "collapsed": false
   },
   "outputs": [
    {
     "data": {
      "text/plain": [
       "Linear mixed model fit by REML ['lmerMod']\n",
       "Formula: rt ~ congruent + log.cpe + (congruent + log.cpe | subj)\n",
       "   Data: data.corr\n",
       "\n",
       "REML criterion at convergence: 2319.1\n",
       "\n",
       "Scaled residuals: \n",
       "    Min      1Q  Median      3Q     Max \n",
       "-3.7372 -0.7319 -0.0811  0.6591  3.6819 \n",
       "\n",
       "Random effects:\n",
       " Groups   Name          Variance  Std.Dev. Corr       \n",
       " subj     (Intercept)   0.0283522 0.1684              \n",
       "          congruentTRUE 0.0004795 0.0219    0.42      \n",
       "          log.cpe       0.0013177 0.0363   -0.04 -0.71\n",
       " Residual               0.0779400 0.2792              \n",
       "Number of obs: 7706, groups:  subj, 15\n",
       "\n",
       "Fixed effects:\n",
       "               Estimate Std. Error t value\n",
       "(Intercept)    1.326064   0.044326  29.916\n",
       "congruentTRUE -0.014440   0.008527  -1.693\n",
       "log.cpe        0.082284   0.012108   6.796\n",
       "\n",
       "Correlation of Fixed Effects:\n",
       "            (Intr) cnTRUE\n",
       "congrntTRUE  0.226       \n",
       "log.cpe      0.073 -0.338\n",
       "\n",
       "Likelihood ratio test for main effect of stimulus congruency:\n",
       "  Chisq(1) = 2.77; p = 0.0958\n"
      ]
     },
     "metadata": {},
     "output_type": "display_data"
    }
   ],
   "source": [
    "%%R\n",
    "m = lmer(rt ~ congruent + log.cpe + (congruent + log.cpe | subj), data.corr)\n",
    "m.null = lmer(rt ~ log.cpe + (congruent + log.cpe | subj), data.corr)\n",
    "lr.test(m, m.null, \"main effect of stimulus congruency\")"
   ]
  },
  {
   "cell_type": "markdown",
   "metadata": {},
   "source": [
    "### Interaction between log(CPE) and congruency"
   ]
  },
  {
   "cell_type": "code",
   "execution_count": 20,
   "metadata": {
    "collapsed": false
   },
   "outputs": [
    {
     "data": {
      "text/plain": [
       "Linear mixed model fit by REML ['lmerMod']\n",
       "Formula: rt ~ congruent * log.cpe + (congruent * log.cpe | subj)\n",
       "   Data: data.corr\n",
       "\n",
       "REML criterion at convergence: 2323.3\n",
       "\n",
       "Scaled residuals: \n",
       "    Min      1Q  Median      3Q     Max \n",
       "-3.7171 -0.7301 -0.0803  0.6573  3.6747 \n",
       "\n",
       "Random effects:\n",
       " Groups   Name                  Variance  Std.Dev. Corr             \n",
       " subj     (Intercept)           0.0261345 0.16166                   \n",
       "          congruentTRUE         0.0020521 0.04530   0.49            \n",
       "          log.cpe               0.0019659 0.04434  -0.15 -0.80      \n",
       "          congruentTRUE:log.cpe 0.0005535 0.02353   0.59  0.99 -0.78\n",
       " Residual                       0.0779189 0.27914                   \n",
       "Number of obs: 7706, groups:  subj, 15\n",
       "\n",
       "Fixed effects:\n",
       "                       Estimate Std. Error t value\n",
       "(Intercept)            1.321662   0.043210  30.587\n",
       "congruentTRUE         -0.004866   0.020247  -0.240\n",
       "log.cpe                0.077730   0.015597   4.984\n",
       "congruentTRUE:log.cpe  0.009629   0.016491   0.584\n",
       "\n",
       "Correlation of Fixed Effects:\n",
       "            (Intr) cnTRUE log.cp\n",
       "congrntTRUE  0.129              \n",
       "log.cpe      0.054 -0.684       \n",
       "cngrnTRUE:.  0.059  0.911 -0.648\n",
       "\n",
       "Likelihood ratio test for interaction between log(CPE) stimulus congruency:\n",
       "  Chisq(1) = 0.34; p = 0.557\n"
      ]
     },
     "metadata": {},
     "output_type": "display_data"
    }
   ],
   "source": [
    "%%R\n",
    "m = lmer(rt ~ congruent * log.cpe + (congruent * log.cpe | subj), data.corr)\n",
    "m.null = lmer(rt ~ congruent + log.cpe + (congruent * log.cpe | subj), data.corr)\n",
    "lr.test(m, m.null, \"interaction between log(CPE) stimulus congruency\")"
   ]
  },
  {
   "cell_type": "markdown",
   "metadata": {},
   "source": [
    "### Effect of presenting context cue early"
   ]
  },
  {
   "cell_type": "code",
   "execution_count": 21,
   "metadata": {
    "collapsed": false
   },
   "outputs": [
    {
     "data": {
      "text/plain": [
       "Linear mixed model fit by REML ['lmerMod']\n",
       "Formula: rt ~ early + (early | subj)\n",
       "   Data: data.corr\n",
       "\n",
       "REML criterion at convergence: 1692.3\n",
       "\n",
       "Scaled residuals: \n",
       "    Min      1Q  Median      3Q     Max \n",
       "-4.3710 -0.7239 -0.0881  0.6373  3.6658 \n",
       "\n",
       "Random effects:\n",
       " Groups   Name        Variance Std.Dev. Corr \n",
       " subj     (Intercept) 0.030924 0.17585       \n",
       "          earlyTRUE   0.006932 0.08326  -0.03\n",
       " Residual             0.071727 0.26782       \n",
       "Number of obs: 7706, groups:  subj, 15\n",
       "\n",
       "Fixed effects:\n",
       "            Estimate Std. Error t value\n",
       "(Intercept)  1.31694    0.04561  28.872\n",
       "earlyTRUE   -0.15738    0.02235  -7.042\n",
       "\n",
       "Correlation of Fixed Effects:\n",
       "          (Intr)\n",
       "earlyTRUE -0.044\n",
       "\n",
       "Likelihood ratio test for Main effect of early cue:\n",
       "  Chisq(1) = 22.71; p = 1.89e-06\n"
      ]
     },
     "metadata": {},
     "output_type": "display_data"
    }
   ],
   "source": [
    "%%R\n",
    "m = lmer(rt ~ early + (early | subj), data.corr)\n",
    "m.null = lmer(rt ~ 1 + (early | subj), data.corr)\n",
    "lr.test(m, m.null, \"Main effect of early cue\")"
   ]
  },
  {
   "cell_type": "markdown",
   "metadata": {},
   "source": [
    "### Interaction of log(CPE) effect with cue timing manipulation"
   ]
  },
  {
   "cell_type": "code",
   "execution_count": 22,
   "metadata": {
    "collapsed": false
   },
   "outputs": [
    {
     "data": {
      "text/plain": [
       "Linear mixed model fit by REML ['lmerMod']\n",
       "Formula: rt ~ log.cpe * early + (log.cpe * early | subj)\n",
       "   Data: data.corr\n",
       "\n",
       "REML criterion at convergence: 1518.6\n",
       "\n",
       "Scaled residuals: \n",
       "    Min      1Q  Median      3Q     Max \n",
       "-4.1219 -0.7222 -0.0889  0.6326  3.6499 \n",
       "\n",
       "Random effects:\n",
       " Groups   Name              Variance  Std.Dev. Corr             \n",
       " subj     (Intercept)       0.0226173 0.15039                   \n",
       "          log.cpe           0.0016605 0.04075  -0.55            \n",
       "          earlyTRUE         0.0108059 0.10395   0.24  0.02      \n",
       "          log.cpe:earlyTRUE 0.0009251 0.03042   0.75 -0.56  0.76\n",
       " Residual                   0.0699290 0.26444                   \n",
       "Number of obs: 7706, groups:  subj, 15\n",
       "\n",
       "Fixed effects:\n",
       "                  Estimate Std. Error t value\n",
       "(Intercept)        1.43695    0.04049   35.49\n",
       "log.cpe            0.11913    0.01490    8.00\n",
       "earlyTRUE         -0.21244    0.03106   -6.84\n",
       "log.cpe:earlyTRUE -0.05282    0.01650   -3.20\n",
       "\n",
       "Correlation of Fixed Effects:\n",
       "            (Intr) log.cp erTRUE\n",
       "log.cpe     -0.187              \n",
       "earlyTRUE    0.098 -0.229       \n",
       "lg.cp:rTRUE  0.173 -0.639  0.721\n",
       "\n",
       "Likelihood ratio test for interaction between log(CPE) and early cue:\n",
       "  Chisq(1) = 8.77; p = 0.00307\n"
      ]
     },
     "metadata": {},
     "output_type": "display_data"
    }
   ],
   "source": [
    "%%R\n",
    "m = lmer(rt ~ log.cpe * early + (log.cpe * early | subj), data.corr)\n",
    "m.null = lmer(rt ~ log.cpe + early + (log.cpe * early | subj), data.corr)\n",
    "lr.test(m, m.null, \"interaction between log(CPE) and early cue\")"
   ]
  },
  {
   "cell_type": "markdown",
   "metadata": {},
   "source": [
    "### Main effect of log(CPE) on early trials"
   ]
  },
  {
   "cell_type": "code",
   "execution_count": 23,
   "metadata": {
    "collapsed": false
   },
   "outputs": [
    {
     "data": {
      "text/plain": [
       "Linear mixed model fit by REML ['lmerMod']\n",
       "Formula: rt ~ log.cpe + (log.cpe | subj)\n",
       "   Data: data.corr\n",
       " Subset: early\n",
       "\n",
       "REML criterion at convergence: 959.7\n",
       "\n",
       "Scaled residuals: \n",
       "    Min      1Q  Median      3Q     Max \n",
       "-2.6291 -0.7064 -0.1222  0.6053  3.5183 \n",
       "\n",
       "Random effects:\n",
       " Groups   Name        Variance  Std.Dev. Corr\n",
       " subj     (Intercept) 0.0405214 0.20130      \n",
       "          log.cpe     0.0007233 0.02689  0.38\n",
       " Residual             0.0732255 0.27060      \n",
       "Number of obs: 3898, groups:  subj, 15\n",
       "\n",
       "Fixed effects:\n",
       "            Estimate Std. Error t value\n",
       "(Intercept)  1.22452    0.05310  23.060\n",
       "log.cpe      0.06649    0.01236   5.382\n",
       "\n",
       "Correlation of Fixed Effects:\n",
       "        (Intr)\n",
       "log.cpe 0.364 \n",
       "\n",
       "Likelihood ratio test for main effect of log(CPE) on early cue trials:\n",
       "  Chisq(1) = 16.86; p = 4.03e-05\n"
      ]
     },
     "metadata": {},
     "output_type": "display_data"
    }
   ],
   "source": [
    "%%R\n",
    "m = lmer(rt ~ log.cpe + (log.cpe | subj), data.corr, subset=early)\n",
    "m.null = lmer(rt ~ 1 + (log.cpe | subj), data.corr, subset=early)\n",
    "lr.test(m, m.null, \"main effect of log(CPE) on early cue trials\")"
   ]
  },
  {
   "cell_type": "markdown",
   "metadata": {},
   "source": [
    "### Main effect of log(CPE) on context repeat trials"
   ]
  },
  {
   "cell_type": "code",
   "execution_count": 24,
   "metadata": {
    "collapsed": false
   },
   "outputs": [
    {
     "data": {
      "text/plain": [
       "Linear mixed model fit by REML ['lmerMod']\n",
       "Formula: rt ~ log.cpe + (log.cpe | subj)\n",
       "   Data: data.corr\n",
       " Subset: !context_switch\n",
       "\n",
       "REML criterion at convergence: 1188.3\n",
       "\n",
       "Scaled residuals: \n",
       "    Min      1Q  Median      3Q     Max \n",
       "-3.7846 -0.7363 -0.0927  0.6446  3.5860 \n",
       "\n",
       "Random effects:\n",
       " Groups   Name        Variance  Std.Dev. Corr \n",
       " subj     (Intercept) 0.0300518 0.17335       \n",
       "          log.cpe     0.0005138 0.02267  -0.46\n",
       " Residual             0.0747662 0.27343       \n",
       "Number of obs: 4507, groups:  subj, 15\n",
       "\n",
       "Fixed effects:\n",
       "            Estimate Std. Error t value\n",
       "(Intercept)  1.28630    0.04658  27.618\n",
       "log.cpe      0.06905    0.01202   5.746\n",
       "\n",
       "Correlation of Fixed Effects:\n",
       "        (Intr)\n",
       "log.cpe 0.015 \n",
       "\n",
       "Likelihood ratio test for main effect of log(CPE) on context repeat trials:\n",
       "  Chisq(1) = 18.21; p = 1.98e-05\n"
      ]
     },
     "metadata": {},
     "output_type": "display_data"
    }
   ],
   "source": [
    "%%R\n",
    "m = lmer(rt ~ log.cpe + (log.cpe | subj), data.corr, subset=!context_switch)\n",
    "m.null = lmer(rt ~ 1 + (log.cpe | subj), data.corr, subset=!context_switch)\n",
    "lr.test(m, m.null, \"main effect of log(CPE) on context repeat trials\")"
   ]
  },
  {
   "cell_type": "markdown",
   "metadata": {},
   "source": [
    "### Main effect of log(CPE) on context switch trials"
   ]
  },
  {
   "cell_type": "code",
   "execution_count": 25,
   "metadata": {
    "collapsed": false
   },
   "outputs": [
    {
     "data": {
      "text/plain": [
       "Linear mixed model fit by REML ['lmerMod']\n",
       "Formula: rt ~ log.cpe + (log.cpe | subj)\n",
       "   Data: data.corr\n",
       " Subset: context_switch\n",
       "\n",
       "REML criterion at convergence: 1117.3\n",
       "\n",
       "Scaled residuals: \n",
       "    Min      1Q  Median      3Q     Max \n",
       "-2.7475 -0.7378 -0.0615  0.6737  3.5047 \n",
       "\n",
       "Random effects:\n",
       " Groups   Name        Variance Std.Dev. Corr\n",
       " subj     (Intercept) 0.036993 0.19233      \n",
       "          log.cpe     0.002425 0.04924  0.64\n",
       " Residual             0.080976 0.28456      \n",
       "Number of obs: 3199, groups:  subj, 15\n",
       "\n",
       "Fixed effects:\n",
       "            Estimate Std. Error t value\n",
       "(Intercept)  1.29422    0.05127  25.246\n",
       "log.cpe      0.01655    0.02010   0.823\n",
       "\n",
       "Correlation of Fixed Effects:\n",
       "        (Intr)\n",
       "log.cpe 0.568 \n",
       "\n",
       "Likelihood ratio test for main effect of log(CPE) on context switch trials:\n",
       "  Chisq(1) = 0.71; p = 0.399\n"
      ]
     },
     "metadata": {},
     "output_type": "display_data"
    }
   ],
   "source": [
    "%%R\n",
    "m = lmer(rt ~ log.cpe + (log.cpe | subj), data.corr, subset=context_switch)\n",
    "m.null = lmer(rt ~ 1 + (log.cpe | subj), data.corr, subset=context_switch)\n",
    "lr.test(m, m.null, \"main effect of log(CPE) on context switch trials\")"
   ]
  },
  {
   "cell_type": "markdown",
   "metadata": {},
   "source": [
    "### Interaction with context switch events"
   ]
  },
  {
   "cell_type": "code",
   "execution_count": 26,
   "metadata": {
    "collapsed": false
   },
   "outputs": [
    {
     "data": {
      "text/plain": [
       "Linear mixed model fit by REML ['lmerMod']\n",
       "Formula: rt ~ log.cpe * context_switch + (log.cpe * context_switch | subj)\n",
       "   Data: data.corr\n",
       "\n",
       "REML criterion at convergence: 2259.6\n",
       "\n",
       "Scaled residuals: \n",
       "    Min      1Q  Median      3Q     Max \n",
       "-3.7349 -0.7371 -0.0800  0.6576  3.6092 \n",
       "\n",
       "Random effects:\n",
       " Groups   Name                       Variance Std.Dev. Corr             \n",
       " subj     (Intercept)                0.030488 0.17461                   \n",
       "          log.cpe                    0.000699 0.02644  -0.33            \n",
       "          context_switchTRUE         0.003813 0.06175   0.14 -0.06      \n",
       "          log.cpe:context_switchTRUE 0.003751 0.06125   0.44 -0.36  0.93\n",
       " Residual                            0.077259 0.27796                   \n",
       "Number of obs: 7706, groups:  subj, 15\n",
       "\n",
       "Fixed effects:\n",
       "                            Estimate Std. Error t value\n",
       "(Intercept)                 1.286064   0.046944  27.396\n",
       "log.cpe                     0.068924   0.012665   5.442\n",
       "context_switchTRUE          0.007775   0.024081   0.323\n",
       "log.cpe:context_switchTRUE -0.053132   0.024398  -2.178\n",
       "\n",
       "Correlation of Fixed Effects:\n",
       "            (Intr) log.cp c_TRUE\n",
       "log.cpe      0.052              \n",
       "cntxt_sTRUE -0.065 -0.456       \n",
       "lg.cp:_TRUE  0.156 -0.493  0.919\n",
       "\n",
       "Likelihood ratio test for interaction between log(CPE) and context switches:\n",
       "  Chisq(1) = 4.36; p = 0.0367\n"
      ]
     },
     "metadata": {},
     "output_type": "display_data"
    }
   ],
   "source": [
    "%%R\n",
    "m = lmer(rt ~ log.cpe * context_switch + (log.cpe * context_switch | subj), data.corr)\n",
    "m.null = lmer(rt ~ log.cpe + context_switch + (log.cpe * context_switch | subj), data.corr)\n",
    "lr.test(m, m.null, \"interaction between log(CPE) and context switches\")"
   ]
  },
  {
   "cell_type": "markdown",
   "metadata": {},
   "source": [
    "### Main behavioral figure"
   ]
  },
  {
   "cell_type": "code",
   "execution_count": 27,
   "metadata": {
    "collapsed": false
   },
   "outputs": [
    {
     "data": {
      "image/png": "[encoded data removed]",
      "text/plain": [
       "<matplotlib.figure.Figure at 0x11578f210>"
      ]
     },
     "metadata": {},
     "output_type": "display_data"
    }
   ],
   "source": [
    "f = plt.figure(figsize=(3.5, 4.5))\n",
    "\n",
    "reg_axes = []\n",
    "hist_axes = []\n",
    "gs = plt.GridSpec(8, 2)\n",
    "\n",
    "# Make it easy to switch to black and white if necessary\n",
    "black_and_white = False\n",
    "if black_and_white:\n",
    "    pe_color = \".25\"\n",
    "    congr_pal = [\".1\", \".4\"]\n",
    "    early_pal = [\".1\", \".4\"]\n",
    "    switch_pal = [\".1\", \".4\"]\n",
    "else:\n",
    "    pe_color = \"#429c5c\"\n",
    "    congr_pal = [\"#5f486f\", \"#9a91c4\"]\n",
    "    early_pal = [\"#355d7a\", \"#72acd3\"]\n",
    "    switch_pal = [\"#8b312d\", \"#f06855\"]\n",
    "\n",
    "# Initialize the subplot axes\n",
    "for row in range(2):\n",
    "    for col in range(2):\n",
    "\n",
    "        rr = slice(row * 4, row * 4 + 3)\n",
    "        hr = row * 4 + 3\n",
    "        reg_axes.append(f.add_subplot(gs[rr, col]))\n",
    "        hist_axes.append(f.add_subplot(gs[hr, col]))\n",
    "\n",
    "        if col:\n",
    "            reg_axes[-1].set(yticklabels=[])\n",
    "            hist_axes[-1].set(yticklabels=[])\n",
    "\n",
    "        if row:\n",
    "            reg_axes[-1].set(xlim=(.1, .9), ylim=(1.06, 1.53))\n",
    "        else:\n",
    "            reg_axes[-1].set(xticklabels=[])\n",
    "            hist_axes[-1].set(xticklabels=[])\n",
    "            reg_axes[-1].set(xlim=(.1, .9), ylim=(1.11, 1.39))\n",
    "        hist_axes[-1].set(xlim=(.1, .9), ylim=(0, 450))\n",
    "\n",
    "# Set some keyword arguments that will be shared across subplots\n",
    "bins = np.percentile(data_corr.pe_context, [10, 30, 50, 70, 90])\n",
    "bins = 6\n",
    "reg_kws = dict(x_bins=bins, units=\"subj\", n_boot=10000, logx=True,\n",
    "               scatter_kws={\"s\": 12}, line_kws={\"lw\": 1.5})\n",
    "\n",
    "hist_kws = dict(bins=30, rwidth=.95, alpha=.7, linewidth=0)\n",
    "text_kws = dict(ha=\"center\", size=8)\n",
    "\n",
    "# ===================================================================================\n",
    "# Plot showing the relationship between log(CPE) and RT\n",
    "\n",
    "sns.regplot(\"pe_context\", \"rt_within\", data_corr, ax=reg_axes[0], color=pe_color, **reg_kws)\n",
    "hist_axes[0].hist(data_corr.pe_context, color=pe_color, **hist_kws)\n",
    "\n",
    "# -----------------------------------------------------------------------------------\n",
    "# Plot showing the (non) effect of incongruent stimuli\n",
    "\n",
    "sns.regplot(\"pe_context\", \"rt_within\", data_corr.query(\"not congruent\"),\n",
    "            ax=reg_axes[1], color=congr_pal[1], **reg_kws)\n",
    "sns.regplot(\"pe_context\", \"rt_within\", data_corr.query(\"congruent\"),\n",
    "            ax=reg_axes[1], color=congr_pal[0], **reg_kws)\n",
    "hist_axes[1].hist([data_corr.query(\"congruent\").pe_context,\n",
    "                   data_corr.query(\"not congruent\").pe_context],\n",
    "                  histtype=\"barstacked\", color=congr_pal, **hist_kws)\n",
    "reg_axes[1].text(.55, 1.18, \"congruent\\nstimulus\", color=congr_pal[0], **text_kws)\n",
    "reg_axes[1].text(.35, 1.33, \"incongruent\\nstimulus\", color=congr_pal[1], **text_kws)\n",
    "\n",
    "# -----------------------------------------------------------------------------------\n",
    "# Plot showing the interaction between log(CPE) and early cue presentation\n",
    "\n",
    "sns.regplot(\"pe_context\", \"rt_within\", data_corr.query(\"early\"),\n",
    "            ax=reg_axes[2], color=early_pal[0], **reg_kws)\n",
    "sns.regplot(\"pe_context\", \"rt_within\", data_corr.query(\"not early\"),\n",
    "            ax=reg_axes[2], color=early_pal[1], **reg_kws)\n",
    "hist_axes[2].hist([data_corr.query(\"early\").pe_context,\n",
    "                   data_corr.query(\"not early\").pe_context],\n",
    "                  histtype=\"barstacked\", color=early_pal, **hist_kws)\n",
    "reg_axes[2].text(.6, 1.10, \"early cue\", color=early_pal[0], **text_kws)\n",
    "reg_axes[2].text(.3, 1.38, \"concurrent\\ncue\", color=early_pal[1], **text_kws)\n",
    "\n",
    "# -----------------------------------------------------------------------------------\n",
    "# Plot showing the interaction between log(CPE) and context switch trials\n",
    "\n",
    "sns.regplot(\"pe_context\", \"rt_within\", data_corr.query(\"context_switch\"),\n",
    "            ax=reg_axes[3], color=switch_pal[1], **reg_kws)\n",
    "sns.regplot(\"pe_context\", \"rt_within\", data_corr.query(\"not context_switch\"),\n",
    "            ax=reg_axes[3], color=switch_pal[0], **reg_kws)\n",
    "hist_axes[3].hist([data_corr.query(\"not context_switch\").pe_context,\n",
    "                   data_corr.query(\"context_switch\").pe_context],\n",
    "                  histtype=\"barstacked\", color=switch_pal, **hist_kws)\n",
    "reg_axes[3].text(.6, 1.18, \"context repeat\", color=switch_pal[0], **text_kws)\n",
    "reg_axes[3].text(.4, 1.37, \"context switch\", color=switch_pal[1], **text_kws)\n",
    "\n",
    "# ===================================================================================\n",
    "# Tweak the labels and positioning of the figure\n",
    "\n",
    "for i in range(4):\n",
    "    reg_axes[i].set(xlabel=\"\")\n",
    "    if i % 2:\n",
    "        reg_axes[i].set(ylabel=\"\")\n",
    "        hist_axes[i].set(ylabel=\"\")\n",
    "    else:\n",
    "        reg_axes[i].set_ylabel(\"Reaction time (s)\", labelpad=3)\n",
    "        hist_axes[i].set_ylabel(\"Trials\", labelpad=3)\n",
    "\n",
    "[ax.set(xticks=[.1, .3, .5, .7, .9], yticks=[0, 400]) for ax in hist_axes]\n",
    "sns.despine()\n",
    "[sns.despine(ax=ax, bottom=True) for ax in reg_axes]\n",
    "[ax.set(xticks=[]) for ax in reg_axes]\n",
    "\n",
    "# Errorbar width isn't configurable in seaborn but default is too wide\n",
    "for ax in reg_axes:\n",
    "    for line in ax.lines:\n",
    "        line.set_linewidth(1.5)\n",
    "\n",
    "# Label the panels\n",
    "f.text(.55, .02, \"Context prediction error (CPE)\", ha=\"center\", size=8.8)\n",
    "f.text(.02, .96, \"A\", size=12)\n",
    "f.text(.54, .96, \"B\", size=12)\n",
    "f.text(.02, .50, \"C\", size=12)\n",
    "f.text(.54, .50, \"D\", size=12)\n",
    "\n",
    "f.tight_layout(pad=.5, w_pad=.75, rect=[0.01, .03, 1, 1])\n",
    "savefig(f, \"behavioral_main\")"
   ]
  },
  {
   "cell_type": "markdown",
   "metadata": {},
   "source": [
    "----"
   ]
  },
  {
   "cell_type": "markdown",
   "metadata": {},
   "source": [
    "## Tests of other variables that might influence RT"
   ]
  },
  {
   "cell_type": "code",
   "execution_count": 28,
   "metadata": {
    "collapsed": false
   },
   "outputs": [
    {
     "data": {
      "text/plain": [
       "Linear mixed model fit by REML ['lmerMod']\n",
       "Formula: rt ~ context_switch + (context_switch | subj)\n",
       "   Data: data.corr\n",
       "\n",
       "REML criterion at convergence: 2301\n",
       "\n",
       "Scaled residuals: \n",
       "    Min      1Q  Median      3Q     Max \n",
       "-3.7801 -0.7348 -0.0760  0.6609  3.6474 \n",
       "\n",
       "Random effects:\n",
       " Groups   Name               Variance  Std.Dev. Corr \n",
       " subj     (Intercept)        0.0349269 0.18689       \n",
       "          context_switchTRUE 0.0009234 0.03039  -0.59\n",
       " Residual                    0.0778957 0.27910       \n",
       "Number of obs: 7706, groups:  subj, 15\n",
       "\n",
       "Fixed effects:\n",
       "                   Estimate Std. Error t value\n",
       "(Intercept)         1.20586    0.04843  24.897\n",
       "context_switchTRUE  0.07594    0.01016   7.471\n",
       "\n",
       "Correlation of Fixed Effects:\n",
       "            (Intr)\n",
       "cntxt_sTRUE -0.488\n",
       "\n",
       "Likelihood ratio test for main effect of context switch:\n",
       "  Chisq(1) = 24.09; p = 9.18e-07\n"
      ]
     },
     "metadata": {},
     "output_type": "display_data"
    }
   ],
   "source": [
    "%%R\n",
    "m = lmer(rt ~ context_switch + (context_switch | subj), data.corr)\n",
    "m.null = lmer(rt ~ 1 + (context_switch | subj), data.corr)\n",
    "lr.test(m, m.null, \"main effect of context switch\")"
   ]
  },
  {
   "cell_type": "code",
   "execution_count": 29,
   "metadata": {
    "collapsed": false
   },
   "outputs": [
    {
     "data": {
      "text/plain": [
       "Linear mixed model fit by REML ['lmerMod']\n",
       "Formula: rt ~ frame_switch + (frame_switch | subj)\n",
       "   Data: data.corr\n",
       " Subset: !context_switch\n",
       "\n",
       "REML criterion at convergence: 1229.6\n",
       "\n",
       "Scaled residuals: \n",
       "    Min      1Q  Median      3Q     Max \n",
       "-3.8383 -0.7399 -0.0929  0.6545  3.6685 \n",
       "\n",
       "Random effects:\n",
       " Groups   Name             Variance  Std.Dev. Corr \n",
       " subj     (Intercept)      3.548e-02 0.188357      \n",
       "          frame_switchTRUE 7.151e-06 0.002674 -1.00\n",
       " Residual                  7.549e-02 0.274761      \n",
       "Number of obs: 4507, groups:  subj, 15\n",
       "\n",
       "Fixed effects:\n",
       "                 Estimate Std. Error t value\n",
       "(Intercept)      1.197253   0.049004  24.432\n",
       "frame_switchTRUE 0.016215   0.008237   1.968\n",
       "\n",
       "Correlation of Fixed Effects:\n",
       "            (Intr)\n",
       "frm_swtTRUE -0.173\n",
       "\n",
       "Likelihood ratio test for main effect of cue switch on repeat trials:\n",
       "  Chisq(1) = 3.85; p = 0.0497\n"
      ]
     },
     "metadata": {},
     "output_type": "display_data"
    }
   ],
   "source": [
    "%%R\n",
    "m = lmer(rt ~ frame_switch + (frame_switch | subj), data.corr, subset=!context_switch)\n",
    "m.null = lmer(rt ~ 1 + (frame_switch | subj), data.corr, subset=!context_switch)\n",
    "lr.test(m, m.null, \"main effect of cue switch on repeat trials\")"
   ]
  },
  {
   "cell_type": "code",
   "execution_count": 30,
   "metadata": {
    "collapsed": false
   },
   "outputs": [
    {
     "data": {
      "text/plain": [
       "Linear mixed model fit by REML ['lmerMod']\n",
       "Formula: rt ~ evidence_switch + (evidence_switch | subj)\n",
       "   Data: data.corr\n",
       " Subset: !context_switch\n",
       "\n",
       "REML criterion at convergence: 1224.9\n",
       "\n",
       "Scaled residuals: \n",
       "    Min      1Q  Median      3Q     Max \n",
       "-3.8847 -0.7327 -0.0846  0.6539  3.6780 \n",
       "\n",
       "Random effects:\n",
       " Groups   Name                Variance Std.Dev. Corr \n",
       " subj     (Intercept)         0.038959 0.19738       \n",
       "          evidence_switchTrue 0.000915 0.03025  -0.64\n",
       " Residual                     0.075305 0.27442       \n",
       "Number of obs: 4507, groups:  subj, 15\n",
       "\n",
       "Fixed effects:\n",
       "                    Estimate Std. Error t value\n",
       "(Intercept)          1.21384    0.05133  23.647\n",
       "evidence_switchTrue -0.01402    0.01135  -1.235\n",
       "\n",
       "Correlation of Fixed Effects:\n",
       "            (Intr)\n",
       "evdnc_swtcT -0.504\n",
       "\n",
       "Likelihood ratio test for main effect of evidence switch on repeat trials:\n",
       "  Chisq(1) = 1.56; p = 0.212\n"
      ]
     },
     "metadata": {},
     "output_type": "display_data"
    }
   ],
   "source": [
    "%%R\n",
    "m = lmer(rt ~ evidence_switch + (evidence_switch | subj), data.corr, subset=!context_switch)\n",
    "m.null = lmer(rt ~ 1 + (evidence_switch | subj), data.corr, subset=!context_switch)\n",
    "lr.test(m, m.null, \"main effect of evidence switch on repeat trials\")"
   ]
  },
  {
   "cell_type": "code",
   "execution_count": 31,
   "metadata": {
    "collapsed": false
   },
   "outputs": [
    {
     "data": {
      "text/plain": [
       "Linear mixed model fit by REML ['lmerMod']\n",
       "Formula: rt ~ response_switch + (response_switch | subj)\n",
       "   Data: data.corr\n",
       " Subset: response_switch != \"nan\"\n",
       "\n",
       "REML criterion at convergence: 2382.6\n",
       "\n",
       "Scaled residuals: \n",
       "    Min      1Q  Median      3Q     Max \n",
       "-3.8901 -0.7400 -0.0821  0.6671  3.7838 \n",
       "\n",
       "Random effects:\n",
       " Groups   Name                Variance  Std.Dev. Corr \n",
       " subj     (Intercept)         0.0330810 0.1819        \n",
       "          response_switchTrue 0.0001848 0.0136   -0.28\n",
       " Residual                     0.0791966 0.2814        \n",
       "Number of obs: 7577, groups:  subj, 15\n",
       "\n",
       "Fixed effects:\n",
       "                     Estimate Std. Error t value\n",
       "(Intercept)          1.247506   0.047188  26.437\n",
       "response_switchTrue -0.018109   0.007367  -2.458\n",
       "\n",
       "Correlation of Fixed Effects:\n",
       "            (Intr)\n",
       "rspns_swtcT -0.195\n",
       "\n",
       "Likelihood ratio test for main effect of response switch:\n",
       "  Chisq(1) = 5.36; p = 0.0207\n"
      ]
     },
     "metadata": {},
     "output_type": "display_data"
    }
   ],
   "source": [
    "%%R\n",
    "m = lmer(rt ~ response_switch + (response_switch | subj), data.corr, subset=response_switch != \"nan\")\n",
    "m.null = lmer(rt ~ 1 + (response_switch | subj), data.corr, subset=response_switch != \"nan\")\n",
    "lr.test(m, m.null, \"main effect of response switch\")"
   ]
  },
  {
   "cell_type": "markdown",
   "metadata": {},
   "source": [
    "## Supplemental behavioral figure"
   ]
  },
  {
   "cell_type": "code",
   "execution_count": 32,
   "metadata": {
    "collapsed": false
   },
   "outputs": [
    {
     "data": {
      "image/png": "[encoded data removed]",
      "text/plain": [
       "<matplotlib.figure.Figure at 0x10c4150d0>"
      ]
     },
     "metadata": {},
     "output_type": "display_data"
    }
   ],
   "source": [
    "with sns.plotting_context({\"lines.linewidth\": .3}):\n",
    "    f, axes = plt.subplots(1, 5, figsize=(7, 2), sharey=True)\n",
    "sns.despine()\n",
    "\n",
    "reg_kws = dict(units=\"subj\", logx=True, scatter_kws={\"s\": 12}, line_kws={\"lw\": 1.5})\n",
    "point_kws = dict(units=\"subj\", n_boot=10000, order=[False, True])\n",
    "\n",
    "# ===================================================================================\n",
    "# Reproduce panel a from the main figure\n",
    "\n",
    "axes[0].set(xlim=(.1, .9))\n",
    "sns.regplot(\"pe_context\", \"rt_within\", data_corr, color=\"#429c5c\", x_bins=6, ax=axes[0], **reg_kws)\n",
    "axes[0].set(xlabel=\"Context prediction error\", xticks=[.1, .3, .5, .7, .9])\n",
    "\n",
    "# -----------------------------------------------------------------------------------\n",
    "# Show the main effect of context switches\n",
    "\n",
    "sns.pointplot(\"context_switch\", \"rt_within\", data=data_corr,\n",
    "              color=sns.xkcd_rgb[\"dark rose\"], ax=axes[1], **point_kws)\n",
    "axes[1].set(xlabel=\"Context switch\")\n",
    "\n",
    "# -----------------------------------------------------------------------------------\n",
    "# Show the main effect of cue switches, only on repeat trials\n",
    "\n",
    "# Remove across subject intercept variance for just repeat trials \n",
    "data_repeat = data_corr[~data_corr.context_switch].copy()\n",
    "data_repeat[\"rt_within\"] = data_repeat.groupby(\"subj\").rt.transform(remove_intercept_variance,\n",
    "                                                                    data_repeat.rt.median())\n",
    "sns.pointplot(\"frame_switch\", \"rt_within\", data=data_repeat,\n",
    "              color=sns.xkcd_rgb[\"dull blue\"], ax=axes[2], **point_kws)\n",
    "axes[2].set(xlabel=\"Cue switch\")\n",
    "\n",
    "# -----------------------------------------------------------------------------------\n",
    "# Show the main effect of stimulus congruency\n",
    "\n",
    "sns.pointplot(\"evidence_switch\", \"rt_within\", data=data_repeat,\n",
    "              color=sns.xkcd_rgb[\"bronze\"], ax=axes[3], **point_kws)\n",
    "axes[3].set(xlabel=\"Evidence switch\")\n",
    "\n",
    "# ===================================================================================\n",
    "\n",
    "# -----------------------------------------------------------------------------------\n",
    "# Show the main effect of response switches\n",
    "sns.pointplot(\"response_switch\", \"rt_within\", data=data_corr[~data_corr.response_switch.isnull()],\n",
    "              color=sns.xkcd_rgb[\"dusty purple\"], ax=axes[4], **point_kws)\n",
    "axes[4].set(xlabel=\"Response switch\")\n",
    "\n",
    "axes[0].set_ylim(1.1, 1.4001)\n",
    "\n",
    "start = .02\n",
    "panels = list(\"ABCDE\")\n",
    "for i, ax in enumerate(axes):\n",
    "    ax.set_ylabel(\"\" if i else \"Reaction time (s)\")\n",
    "    f.text(start + (bool(i) * .05) + (i * .18), .9, panels[i], size=12)\n",
    "        \n",
    "f.tight_layout(w_pad=.3)\n",
    "savefig(f, \"behavioral_supplement\")"
   ]
  },
  {
   "cell_type": "markdown",
   "metadata": {
    "collapsed": true
   },
   "source": [
    "## Relationship between response accuracy and CPE"
   ]
  },
  {
   "cell_type": "markdown",
   "metadata": {},
   "source": [
    "### Main effect of log(CPE)"
   ]
  },
  {
   "cell_type": "code",
   "execution_count": 33,
   "metadata": {
    "collapsed": false
   },
   "outputs": [
    {
     "data": {
      "text/plain": [
       "Generalized linear mixed model fit by maximum likelihood (Laplace\n",
       "  Approximation) [glmerMod]\n",
       " Family: binomial  ( logit )\n",
       "Formula: correct ~ log.cpe + (log.cpe | subj)\n",
       "   Data: data.resp\n",
       "\n",
       "     AIC      BIC   logLik deviance df.resid \n",
       "  6266.1   6301.5  -3128.0   6256.1     8751 \n",
       "\n",
       "Scaled residuals: \n",
       "    Min      1Q  Median      3Q     Max \n",
       "-6.5789  0.2603  0.3424  0.4222  0.5109 \n",
       "\n",
       "Random effects:\n",
       " Groups Name        Variance Std.Dev. Corr \n",
       " subj   (Intercept) 0.07904  0.2811        \n",
       "        log.cpe     0.05183  0.2277   -1.00\n",
       "Number of obs: 8756, groups:  subj, 15\n",
       "\n",
       "Fixed effects:\n",
       "            Estimate Std. Error z value Pr(>|z|)    \n",
       "(Intercept)   1.7592     0.1148  15.329  < 2e-16 ***\n",
       "log.cpe      -0.3380     0.1059  -3.193  0.00141 ** \n",
       "---\n",
       "Signif. codes:  0 ‘***’ 0.001 ‘**’ 0.01 ‘*’ 0.05 ‘.’ 0.1 ‘ ’ 1\n",
       "\n",
       "Correlation of Fixed Effects:\n",
       "        (Intr)\n",
       "log.cpe 0.238 \n",
       "\n",
       "Likelihood ratio test for main effect of log(CPE):\n",
       "  Chisq(1) = 9.75; p = 0.00179\n"
      ]
     },
     "metadata": {},
     "output_type": "display_data"
    }
   ],
   "source": [
    "%%R\n",
    "m = glmer(correct ~ log.cpe + (log.cpe | subj), data.resp, family=binomial)\n",
    "m.null = glmer(correct ~ 1 + (log.cpe | subj), data.resp, family=binomial)\n",
    "lr.test(m, m.null, \"main effect of log(CPE)\")"
   ]
  },
  {
   "cell_type": "code",
   "execution_count": 34,
   "metadata": {
    "collapsed": false
   },
   "outputs": [
    {
     "data": {
      "text/plain": [
       "pe_context\n",
       "(0.132, 0.251]    0.89\n",
       "(0.251, 0.343]    0.89\n",
       "(0.343, 0.436]    0.89\n",
       "(0.436, 0.547]    0.86\n",
       "(0.547, 0.817]    0.87\n",
       "Name: correct, dtype: float64"
      ]
     },
     "execution_count": 34,
     "metadata": {},
     "output_type": "execute_result"
    }
   ],
   "source": [
    "q = data_resp.pe_context.quantile(np.linspace(0, 1, 6))\n",
    "data_resp.groupby(pd.cut(data_resp.pe_context, q)).correct.mean()"
   ]
  },
  {
   "cell_type": "markdown",
   "metadata": {},
   "source": [
    "### Interaction between congruency and log(CPE)"
   ]
  },
  {
   "cell_type": "code",
   "execution_count": 35,
   "metadata": {
    "collapsed": false
   },
   "outputs": [
    {
     "data": {
      "text/plain": [
       "Generalized linear mixed model fit by maximum likelihood (Laplace\n",
       "  Approximation) [glmerMod]\n",
       " Family: binomial  ( logit )\n",
       "Formula: correct ~ log.cpe * congruent + (log.cpe | subj) + (congruent |  \n",
       "    subj)\n",
       "   Data: data.resp\n",
       "Control: glmerControl(optimizer = \"bobyqa\")\n",
       "\n",
       "     AIC      BIC   logLik deviance df.resid \n",
       "  6235.8   6306.6  -3107.9   6215.8     8746 \n",
       "\n",
       "Scaled residuals: \n",
       "    Min      1Q  Median      3Q     Max \n",
       "-7.3426  0.2603  0.3307  0.4161  0.6162 \n",
       "\n",
       "Random effects:\n",
       " Groups Name          Variance Std.Dev. Corr \n",
       " subj   (Intercept)   0.07324  0.2706        \n",
       "        log.cpe       0.05756  0.2399   -1.00\n",
       " subj.1 (Intercept)   0.03066  0.1751        \n",
       "        congruentTRUE 0.12096  0.3478   -1.00\n",
       "Number of obs: 8756, groups:  subj, 15\n",
       "\n",
       "Fixed effects:\n",
       "                      Estimate Std. Error z value Pr(>|z|)    \n",
       "(Intercept)             1.5226     0.1383  11.007  < 2e-16 ***\n",
       "log.cpe                -0.4527     0.1280  -3.536 0.000406 ***\n",
       "congruentTRUE           0.6555     0.1980   3.311 0.000931 ***\n",
       "log.cpe:congruentTRUE   0.3372     0.1655   2.037 0.041658 *  \n",
       "---\n",
       "Signif. codes:  0 ‘***’ 0.001 ‘**’ 0.01 ‘*’ 0.05 ‘.’ 0.1 ‘ ’ 1\n",
       "\n",
       "Correlation of Fixed Effects:\n",
       "            (Intr) log.cp cnTRUE\n",
       "log.cpe      0.389              \n",
       "congrntTRUE -0.568 -0.406       \n",
       "lg.cp:cTRUE -0.451 -0.536  0.810\n",
       "\n",
       "Likelihood ratio test for interaction between log(CPE) and congruency:\n",
       "  Chisq(1) = 4.12; p = 0.0424\n"
      ]
     },
     "metadata": {},
     "output_type": "display_data"
    }
   ],
   "source": [
    "%%R\n",
    "m = glmer(correct ~ log.cpe * congruent + (log.cpe | subj) + (congruent | subj),\n",
    "          data.resp, family=binomial,\n",
    "          control=glmerControl(optimizer=\"bobyqa\"))\n",
    "m.null = glmer(correct ~ log.cpe + congruent + (log.cpe | subj) + (congruent | subj),\n",
    "               data.resp, family=binomial,\n",
    "               control=glmerControl(optimizer=\"bobyqa\"))\n",
    "lr.test(m, m.null, \"interaction between log(CPE) and congruency\")"
   ]
  },
  {
   "cell_type": "markdown",
   "metadata": {},
   "source": [
    "### Main effect of log(CPE) on congruent trials"
   ]
  },
  {
   "cell_type": "code",
   "execution_count": 36,
   "metadata": {
    "collapsed": false
   },
   "outputs": [
    {
     "data": {
      "text/plain": [
       "Generalized linear mixed model fit by maximum likelihood (Laplace\n",
       "  Approximation) [glmerMod]\n",
       " Family: binomial  ( logit )\n",
       "Formula: correct ~ log.cpe + (log.cpe | subj)\n",
       "   Data: data.resp\n",
       "Control: glmerControl(optimizer = \"bobyqa\")\n",
       " Subset: congruent\n",
       "\n",
       "     AIC      BIC   logLik deviance df.resid \n",
       "  2632.2   2663.8  -1311.1   2622.2     4083 \n",
       "\n",
       "Scaled residuals: \n",
       "    Min      1Q  Median      3Q     Max \n",
       "-5.7659  0.2885  0.3173  0.3561  0.4423 \n",
       "\n",
       "Random effects:\n",
       " Groups Name        Variance  Std.Dev. Corr \n",
       " subj   (Intercept) 2.526e-01 0.502545      \n",
       "        log.cpe     9.379e-05 0.009684 -1.00\n",
       "Number of obs: 4088, groups:  subj, 15\n",
       "\n",
       "Fixed effects:\n",
       "            Estimate Std. Error z value Pr(>|z|)    \n",
       "(Intercept)  2.24793    0.19917  11.286   <2e-16 ***\n",
       "log.cpe     -0.03642    0.13794  -0.264    0.792    \n",
       "---\n",
       "Signif. codes:  0 ‘***’ 0.001 ‘**’ 0.01 ‘*’ 0.05 ‘.’ 0.1 ‘ ’ 1\n",
       "\n",
       "Correlation of Fixed Effects:\n",
       "        (Intr)\n",
       "log.cpe 0.689 \n",
       "\n",
       "Likelihood ratio test for main effect of log(CPE) on congruent trials:\n",
       "  Chisq(1) = 0.07; p = 0.793\n"
      ]
     },
     "metadata": {},
     "output_type": "display_data"
    }
   ],
   "source": [
    "%%R\n",
    "m = glmer(correct ~ log.cpe + (log.cpe | subj),\n",
    "          data.resp, subset=congruent, family=binomial, \n",
    "          control=glmerControl(optimizer=\"bobyqa\"))\n",
    "m.null = glmer(correct ~ 1 + (log.cpe | subj),\n",
    "               data.resp, subset=congruent, family=binomial,\n",
    "               control=glmerControl(optimizer=\"bobyqa\"))\n",
    "lr.test(m, m.null, \"main effect of log(CPE) on congruent trials\")"
   ]
  },
  {
   "cell_type": "markdown",
   "metadata": {},
   "source": [
    "### Interaction of early cue and congruent trials"
   ]
  },
  {
   "cell_type": "code",
   "execution_count": 37,
   "metadata": {
    "collapsed": false
   },
   "outputs": [
    {
     "data": {
      "text/plain": [
       "Generalized linear mixed model fit by maximum likelihood (Laplace\n",
       "  Approximation) [glmerMod]\n",
       " Family: binomial  ( logit )\n",
       "Formula: correct ~ early * congruent + (early | subj) + (congruent | subj)\n",
       "   Data: data.resp\n",
       "Control: glmerControl(optimizer = \"bobyqa\", optCtrl = list(maxfun = 50000))\n",
       "\n",
       "     AIC      BIC   logLik deviance df.resid \n",
       "  6241.6   6312.4  -3110.8   6221.6     8746 \n",
       "\n",
       "Scaled residuals: \n",
       "    Min      1Q  Median      3Q     Max \n",
       "-5.5018  0.2526  0.3237  0.4106  0.6292 \n",
       "\n",
       "Random effects:\n",
       " Groups Name          Variance Std.Dev. Corr \n",
       " subj   (Intercept)   0.10044  0.3169        \n",
       "        earlyTRUE     0.08103  0.2847   -0.02\n",
       " subj.1 (Intercept)   0.18411  0.4291        \n",
       "        congruentTRUE 0.10630  0.3260   -0.63\n",
       "Number of obs: 8756, groups:  subj, 15\n",
       "\n",
       "Fixed effects:\n",
       "                        Estimate Std. Error z value Pr(>|z|)    \n",
       "(Intercept)               1.8465     0.1512  12.209  < 2e-16 ***\n",
       "earlyTRUE                 0.2161     0.1172   1.844 0.065132 .  \n",
       "congruentTRUE             0.4734     0.1315   3.601 0.000317 ***\n",
       "earlyTRUE:congruentTRUE  -0.2818     0.1365  -2.065 0.038942 *  \n",
       "---\n",
       "Signif. codes:  0 ‘***’ 0.001 ‘**’ 0.01 ‘*’ 0.05 ‘.’ 0.1 ‘ ’ 1\n",
       "\n",
       "Correlation of Fixed Effects:\n",
       "            (Intr) erTRUE cnTRUE\n",
       "earlyTRUE   -0.219              \n",
       "congrntTRUE -0.481  0.213       \n",
       "erTRUE:TRUE  0.171 -0.470 -0.518\n",
       "\n",
       "Likelihood ratio test for interaction of early cue and congruent trials:\n",
       "  Chisq(1) = 4.23; p = 0.0398\n"
      ]
     },
     "metadata": {},
     "output_type": "display_data"
    }
   ],
   "source": [
    "%%R\n",
    "m = glmer(correct ~ early * congruent + (early | subj) + (congruent | subj),\n",
    "          data.resp, family=binomial,\n",
    "          control=glmerControl(optimizer=\"bobyqa\", optCtrl=list(maxfun=50000)))\n",
    "m.null = glmer(correct ~ early + congruent + (early | subj) + (congruent | subj),\n",
    "               data.resp, family=binomial,\n",
    "               control=glmerControl(optimizer=\"bobyqa\", optCtrl=list(maxfun=50000)))\n",
    "lr.test(m, m.null, \"interaction of early cue and congruent trials\")"
   ]
  },
  {
   "cell_type": "code",
   "execution_count": null,
   "metadata": {
    "collapsed": true
   },
   "outputs": [],
   "source": []
  }
 ],
 "metadata": {
  "kernelspec": {
   "display_name": "Python 2",
   "language": "python",
   "name": "python2"
  },
  "language_info": {
   "codemirror_mode": {
    "name": "ipython",
    "version": 2
   },
   "file_extension": ".py",
   "mimetype": "text/x-python",
   "name": "python",
   "nbconvert_exporter": "python",
   "pygments_lexer": "ipython2",
   "version": "2.7.10"
  }
 },
 "nbformat": 4,
 "nbformat_minor": 0
}
