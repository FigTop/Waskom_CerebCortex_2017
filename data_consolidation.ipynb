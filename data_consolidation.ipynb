{
 "metadata": {
  "name": "",
  "signature": "sha256:f9906e90fb17598107a2dfbc66a8bc0b677a3d134c7f288f26cc70eef3150aa3"
 },
 "nbformat": 3,
 "nbformat_minor": 0,
 "worksheets": [
  {
   "cells": [
    {
     "cell_type": "heading",
     "level": 1,
     "metadata": {},
     "source": [
      "Data Consolidation"
     ]
    },
    {
     "cell_type": "markdown",
     "metadata": {},
     "source": [
      "Preprocessing of the schedule/behavioral data and computational model to generate a single `.csv` file for all of the subjects that is then used in later (fMRI and behavioral) notebooks."
     ]
    },
    {
     "cell_type": "heading",
     "level": 2,
     "metadata": {},
     "source": [
      "Experimental design glossary"
     ]
    },
    {
     "cell_type": "markdown",
     "metadata": {},
     "source": [
      "#### Basic experiment structure\n",
      "\n",
      "* **trial_type**: one of {`early`, `later`, `catch`} for the structure of that trial\n",
      "* **context**: `motion` or `color` for the context (rule) of that trial\n",
      "* **early**: boolean specifying whether there was an early cue (i.e. early and catch trials)\n",
      "\n",
      "\n",
      "* **stim**: boolean specifying whether there was a stimulus and decision (i.e. early and later trials)\n",
      "* **cue**: which of the two cues for that context was used\n",
      "* **frame_id**: one of {`a`, `b`, `c`, or `d`} specifying the frame id on that trial\n",
      "* **motion**: the coherent motion: `0` for upwards and `1` for downwards\n",
      "* **color**: the dominant color: `0` for red and `1` for green\n",
      "* **congruent**: boolean that specifies whether the color and motion values map to the same response\n",
      "\n",
      "\n",
      "* **cue_dur**: the duration of the early cue; NaN on later trials\n",
      "* **trial_dur**: the total duration of the cue + stimulus period\n",
      "* **active_dur**: the duration the subject was active, e.g. (cue) + (rt) or stim dur when no response\n",
      "* **model_dur**: the duration used for fMRI modeling, e.g. (cue) + mean(rt)\n",
      "* **target**: {`0`, `1`} specifying the correct button to press\n",
      "\n",
      "\n",
      "* **block**: latent block number; 0-based\n",
      "* **run**: functional run; 1-based\n",
      "* **condition_trial**: number of the trial conditional on all trials with that color frequency\n",
      "* **run_trial**: number of the trial within the scanning run\n",
      "\n",
      "\n",
      "* **cue_onset**: actual time of cue onset in the functional run\n",
      "* **stim_onset**: actual time of stimulus (dots) onset in the functional run\n",
      "* **iti**: time, in seconds, preceding the onset of the event for this trial\n",
      "\n",
      "\n",
      "* **subj**: subject id\n",
      "\n",
      "#### Generating frequency information\n",
      "\n",
      "* **context_freq**: the \"ground truth\" frequency of the trial context\n",
      "* **context_entropy**: the \"ground truth\" entropy of the contexts on that trial\n",
      "* **color_freq**: the \"ground truth\" frequency of the color rule for that trial\n",
      "\n",
      "#### Direct record of switch events\n",
      "\n",
      "* **color_switch**: boolean specifying whether the dominant color switched from the previous trial\n",
      "* **context_switch**: boolean specifying whether the context switched from the previous trial\n",
      "* **frame_switch**: boolean specifying whether the frame switched from the previous trial\n",
      "* **motion_switch**: boolean specifying whether the coherent motion switched from the previous trial\n",
      "* **response_switch**: boolean specifying whether the provided response was different from the previous trial\n",
      "* **context_switch_lag**: int with the (1-based) number of trials since the last context switch\n",
      "\n",
      "#### Record of participant response\n",
      "\n",
      "* **response**: finger that was used to press a button; `nan` if no response or not a stim trial\n",
      "* **answered**: boolean specifying whether the subject made a response\n",
      "* **rt**: reaction time with respect to stim onset; NaN if no response\n",
      "* **correct**: boolean specifying accuracy of response\n",
      "\n",
      "#### Stimulus presentation QA\n",
      "\n",
      "* **motion_signal**: average motion coherence across all frames\n",
      "* **color_signal**: average color dominance across all frames\n",
      "* **dropped frames**: number of dropped frames during the stimulus\n",
      "\n",
      "#### Model-derived information\n",
      "\n",
      "* **context_prob**: $\\hat p$ at each trial for the actual context\n",
      "* **pe_context**: 1 - $\\hat p$ at each trial for the actual context\n",
      "* **surprisal**: $-\\textrm{log}(~\\hat p~)$ of each trial's context\n",
      "* **entropy**: entropy over the distribution {$~\\hat p$, $1 - \\hat p~$} on each trial\n",
      "* **volatility**: $\\hat v$ at each trial\n"
     ]
    },
    {
     "cell_type": "code",
     "collapsed": false,
     "input": [
      "%matplotlib inline"
     ],
     "language": "python",
     "metadata": {},
     "outputs": [],
     "prompt_number": 1
    },
    {
     "cell_type": "code",
     "collapsed": false,
     "input": [
      "import os\n",
      "import sys\n",
      "import os.path as op\n",
      "from glob import glob\n",
      "import numpy as np\n",
      "import pandas as pd\n",
      "import matplotlib.pyplot as plt\n",
      "import seaborn as sns\n",
      "from pandas import Series\n",
      "from scipy import stats"
     ],
     "language": "python",
     "metadata": {},
     "outputs": [],
     "prompt_number": 2
    },
    {
     "cell_type": "code",
     "collapsed": false,
     "input": [
      "os.environ[\"LYMAN_DIR\"] = \"/Users/mwaskom/studies/punch_paper/lyman/\""
     ],
     "language": "python",
     "metadata": {},
     "outputs": [],
     "prompt_number": 3
    },
    {
     "cell_type": "heading",
     "level": 2,
     "metadata": {},
     "source": [
      "Bayesian learning model"
     ]
    },
    {
     "cell_type": "code",
     "collapsed": false,
     "input": [
      "import optlearner\n",
      "learner = optlearner.ProbabilityLearner()"
     ],
     "language": "python",
     "metadata": {},
     "outputs": [],
     "prompt_number": 4
    },
    {
     "cell_type": "heading",
     "level": 2,
     "metadata": {},
     "source": [
      "Scanning session data"
     ]
    },
    {
     "cell_type": "markdown",
     "metadata": {},
     "source": [
      "Get information about the project"
     ]
    },
    {
     "cell_type": "code",
     "collapsed": false,
     "input": [
      "import lyman\n",
      "data_dir = lyman.gather_project_info()[\"data_dir\"]\n",
      "csv_template = op.join(data_dir, \"{subj}/behav/{subj}_scan_run{run:02d}.csv\")\n",
      "design_template = op.join(data_dir, \"{subj}/design/{design_name}.csv\")"
     ],
     "language": "python",
     "metadata": {},
     "outputs": [],
     "prompt_number": 5
    },
    {
     "cell_type": "code",
     "collapsed": false,
     "input": [
      "subjects = Series(lyman.determine_subjects(), name=\"subj\")\n",
      "runs = Series(range(1, 13), name=\"run\")"
     ],
     "language": "python",
     "metadata": {},
     "outputs": [],
     "prompt_number": 6
    },
    {
     "cell_type": "markdown",
     "metadata": {},
     "source": [
      "Define a general function to clean the data for each subject"
     ]
    },
    {
     "cell_type": "code",
     "collapsed": false,
     "input": [
      "def clean_data(df):\n",
      "    \"\"\"Pass in a concatenated subject dataframe, clean it, and pass it back out.\"\"\"\n",
      "    \n",
      "    # This was a bug in the original design code\n",
      "    df.color_freq = 1 - df.color_freq\n",
      "\n",
      "    # This field shoud be bool but sometimes isn't\n",
      "    df.correct[df.stim & df.response.isnull()] = 0\n",
      "    df.correct = df.correct.astype(np.bool)\n",
      "\n",
      "    # This field is a HUGE MESS OMG.\n",
      "    # Map it to numeric so we can do the next part easily\n",
      "    df.response = df.response.map(lambda x: {\"0\": 0, \"0.0\": 0, 0.: 0, 0: 0,\n",
      "                                             \"1\": 1, \"1.0\": 1, 1.: 1, 1: 1,\n",
      "                                             \"None\": 2, None: 2,\n",
      "                                             }.get(x, np.nan))\n",
      "\n",
      "    # This field was partly incorrect in the saved data. The problem was that if\n",
      "    # participants switched their response from the correct to an incorrect\n",
      "    # response, it changed the reponse code and rt but not the \"correct\" field.\n",
      "    # We will just recalculate from scratch.\n",
      "    df[\"answered\"] = df.response != 2\n",
      "    corr = df.correct.astype(bool) | True\n",
      "    corr.loc[df.context == 0] = df.response == df.motion\n",
      "    corr.loc[df.context == 1] = df.response == df.color\n",
      "    corr.loc[df.stim & ~df.answered] = False\n",
      "    corr.loc[df.trial_type == \"catch\"] = True\n",
      "    df[\"correct\"] = corr\n",
      "   \n",
      "    # Fix some datatype issues\n",
      "    data.loc[:, \"context_switch\"] = data.context_switch.astype(bool)\n",
      "    data.loc[:, \"frame_switch\"] = data.frame_switch.astype(bool)\n",
      "    \n",
      "    return df"
     ],
     "language": "python",
     "metadata": {},
     "outputs": [],
     "prompt_number": 7
    },
    {
     "cell_type": "markdown",
     "metadata": {},
     "source": [
      "Define a function to fit the model for each subject\n",
      "\n",
      "The design was the same for everyone, but we're going to add in the observations from the final practice run (inside the scanner) which was just randomly generated"
     ]
    },
    {
     "cell_type": "code",
     "collapsed": false,
     "input": [
      "def fit_model(subj, df):\n",
      "\n",
      "    practice_csvs = glob(op.join(data_dir, subj, \"behav/%s_practice_run?.csv\" % subj))\n",
      "    practice = pd.read_csv(sorted(practice_csvs)[-1])\n",
      "\n",
      "    learner.reset()\n",
      "    learner.fit(practice.context)\n",
      "\n",
      "    learner.fit(df.context == \"color\")\n",
      "\n",
      "    color_prob = Series(learner.p_hats[len(practice):])\n",
      "    context_prob = color_prob.copy()\n",
      "    context_prob[df.context == \"motion\"] = 1 - context_prob[df.context == \"motion\"]\n",
      "\n",
      "    df[\"color_prob\"] = color_prob\n",
      "    df[\"context_prob\"] = context_prob\n",
      "    df[\"pe_context\"] = 1 - context_prob\n",
      "    df[\"surprisal\"] = -np.log(context_prob)\n",
      "    df[\"entropy\"] = stats.entropy([context_prob, 1 - context_prob])\n",
      "    df[\"information\"] = learner.I_hats[len(practice):]\n",
      "    df[\"volatility\"] = 1 / learner.I_hats[len(practice):]\n",
      "\n",
      "    return df"
     ],
     "language": "python",
     "metadata": {},
     "outputs": [],
     "prompt_number": 8
    },
    {
     "cell_type": "markdown",
     "metadata": {},
     "source": [
      "Define a general function to augment data for each subject"
     ]
    },
    {
     "cell_type": "code",
     "collapsed": false,
     "input": [
      "def augment_data(subj, df):\n",
      "    \"\"\"Pass in concatenated subject dataframe, augment it, and pass it back out.\"\"\"\n",
      "    \n",
      "    # Determine the response switches using actual responses\n",
      "    responded = df.stim & df.answered\n",
      "    resp_df = df[responded]\n",
      "    resp_switch = resp_df.response.iloc[1:] != resp_df.response.iloc[:-1]\n",
      "    df[\"response_switch\"] = resp_switch\n",
      "    df.response_switch.loc[df.run_trial == 0] = np.nan\n",
      "\n",
      "    # Determine the evidence switches\n",
      "    stim_df = df.query(\"stim\")\n",
      "    for context in [\"motion\", \"color\"]:\n",
      "        col = context + \"_switch\"\n",
      "        df[col] = stim_df[context] != stim_df[context].shift()\n",
      "        df.loc[df.run_trial == 0, col] = True\n",
      "\n",
      "    # Now determine the \"evidence_switch\" which is attended evidence\n",
      "    df[\"evidence_switch\"] = df.context_switch.copy()\n",
      "    for i, context in enumerate([\"motion\", \"color\"]):\n",
      "        context_trials = df.context == i\n",
      "        df.loc[context_trials, \"evidence_switch\"] = df.loc[context_trials, context + \"_switch\"]\n",
      "\n",
      "    # Count trials since the last switch\n",
      "    switch = df.context_switch\n",
      "    switch.loc[df.run_trial == 0] = True\n",
      "    df[\"context_switch_lag\"] = df.context.groupby(switch.cumsum()).cumcount() + 1\n",
      "\n",
      "    # Track the congruency of the previous trial\n",
      "    df[\"previous_congruent\"] = np.nan\n",
      "    df[\"previous_congruent\"].iloc[1:] = df.congruent.iloc[:-1].values\n",
      "\n",
      "    # Compute the \"active\" duration\n",
      "    df[\"active_dur\"] = df[\"cue_dur\"].copy().fillna(0)\n",
      "    df.loc[df.trial_type != \"catch\", \"active_dur\"] += df.loc[df.trial_type != \"catch\", \"rt\"].fillna(2)\n",
      "\n",
      "    # Compute the \"model\" duration\n",
      "    df[\"model_dur\"] = df[\"cue_dur\"].copy().fillna(0)\n",
      "    df.loc[df.trial_type != \"catch\", \"model_dur\"] += df.rt.mean()\n",
      "    \n",
      "    # Make the experiment variables more semantic\n",
      "    df.loc[:, \"response\"] = df[\"response\"].map({0: \"index\", 1: \"middle\"})\n",
      "    df.loc[:, \"context\"] = df[\"context\"].map({0: \"motion\", 1: \"color\"})\n",
      "    df.loc[:, \"motion\"] = df[\"motion\"].map({0: \"up\", 1: \"down\"})\n",
      "    df.loc[:, \"color\"] = df[\"color\"].map({0: \"red\", 1: \"green\"})\n",
      "    \n",
      "    # Add in the model-derived estimates\n",
      "    df = fit_model(subj, df)\n",
      "    \n",
      "    return df"
     ],
     "language": "python",
     "metadata": {},
     "outputs": [],
     "prompt_number": 9
    },
    {
     "cell_type": "markdown",
     "metadata": {},
     "source": [
      "Process the behvaioral data for each subject and build a master dataframe"
     ]
    },
    {
     "cell_type": "code",
     "collapsed": false,
     "input": [
      "subj_data = []\n",
      "for subj in subjects:\n",
      "    \n",
      "    # Load the datasets from each run for this subject\n",
      "    # ------------------------------------------------\n",
      "    \n",
      "    run_data = []\n",
      "    for run in runs:\n",
      "        data_path = csv_template.format(subj=subj, run=run)\n",
      "        data = pd.read_csv(data_path, dtype={\"response\": np.object})\n",
      "        data.loc[:, \"run\"] = run\n",
      "        \n",
      "        # Reset the index to get a `run_trial` measure\n",
      "        data.index = pd.Int64Index(data.index.values, name=\"run_trial\")\n",
      "        data.reset_index(inplace=True)\n",
      "        run_data.append(data)\n",
      "    \n",
      "    # Concatenate the run dataframes for this subject\n",
      "    data = pd.concat(run_data).reset_index(drop=True)\n",
      "\n",
      "    # Clean and augment the data using functions defined above\n",
      "    data = clean_data(data)\n",
      "    data = augment_data(subj, data)\n",
      "    data.loc[:, \"subj\"] = subj\n",
      "    \n",
      "    subj_data.append(data)\n",
      "\n",
      "# Concatenate all subjects into one dataframe\n",
      "full_data = pd.concat(subj_data).reset_index(drop=True)"
     ],
     "language": "python",
     "metadata": {},
     "outputs": [
      {
       "output_type": "stream",
       "stream": "stderr",
       "text": [
        "-c:8: SettingWithCopyWarning: \n",
        "A value is trying to be set on a copy of a slice from a DataFrame\n",
        "\n",
        "See the the caveats in the documentation: http://pandas.pydata.org/pandas-docs/stable/indexing.html#indexing-view-versus-copy\n",
        "/Users/mwaskom/anaconda/lib/python2.7/site-packages/pandas/core/indexing.py:121: SettingWithCopyWarning: \n",
        "A value is trying to be set on a copy of a slice from a DataFrame\n",
        "\n",
        "See the the caveats in the documentation: http://pandas.pydata.org/pandas-docs/stable/indexing.html#indexing-view-versus-copy\n",
        "  self._setitem_with_indexer(indexer, value)\n"
       ]
      }
     ],
     "prompt_number": 10
    },
    {
     "cell_type": "markdown",
     "metadata": {},
     "source": [
      "Plot the model-derived data as a sanity check"
     ]
    },
    {
     "cell_type": "code",
     "collapsed": false,
     "input": [
      "sched = pd.read_csv(\"data/scan_design.csv\")"
     ],
     "language": "python",
     "metadata": {},
     "outputs": [],
     "prompt_number": 11
    },
    {
     "cell_type": "code",
     "collapsed": false,
     "input": [
      "with sns.color_palette(\"BuGn_d\", 15):\n",
      "    f, ax = plt.subplots(figsize=(13, 4))\n",
      "\n",
      "ax.plot(1 - sched.color_freq, ls=\"--\", c=\".5\")\n",
      "for s, df_s in full_data.groupby(\"subj\"):\n",
      "    ax.plot(df_s.color_prob, lw=1, alpha=.2)"
     ],
     "language": "python",
     "metadata": {},
     "outputs": [
      {
       "metadata": {},
       "output_type": "display_data",
       "png": "[encoded data removed]",
       "text": [
        "<matplotlib.figure.Figure at 0x116ecf650>"
       ]
      }
     ],
     "prompt_number": 12
    },
    {
     "cell_type": "markdown",
     "metadata": {},
     "source": [
      "Save the dataframe to csv"
     ]
    },
    {
     "cell_type": "code",
     "collapsed": false,
     "input": [
      "full_data.to_csv(\"data/punch_data.csv\", index=False)"
     ],
     "language": "python",
     "metadata": {},
     "outputs": [],
     "prompt_number": 13
    },
    {
     "cell_type": "code",
     "collapsed": false,
     "input": [
      "# Uncomment to check the datatypes of each field\n",
      "# print data.dtypes"
     ],
     "language": "python",
     "metadata": {},
     "outputs": [],
     "prompt_number": 14
    },
    {
     "cell_type": "code",
     "collapsed": false,
     "input": [
      "# Uncomment to get a quick look at the data\n",
      "# print data.head()"
     ],
     "language": "python",
     "metadata": {},
     "outputs": [],
     "prompt_number": 15
    },
    {
     "cell_type": "code",
     "collapsed": false,
     "input": [],
     "language": "python",
     "metadata": {},
     "outputs": []
    }
   ],
   "metadata": {}
  }
 ]
}